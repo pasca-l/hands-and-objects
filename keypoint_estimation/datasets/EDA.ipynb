{
 "cells": [
  {
   "attachments": {},
   "cell_type": "markdown",
   "metadata": {},
   "source": [
    "# Keypoint Estimation EDA"
   ]
  },
  {
   "cell_type": "code",
   "execution_count": null,
   "metadata": {},
   "outputs": [],
   "source": [
    "%load_ext autoreload\n",
    "%autoreload 2"
   ]
  },
  {
   "cell_type": "code",
   "execution_count": null,
   "metadata": {},
   "outputs": [],
   "source": [
    "import os\n",
    "import sys\n",
    "import git\n",
    "# import matplotlib.pyplot as plt\n",
    "\n",
    "git_repo = git.Repo(os.getcwd(), search_parent_directories=True)\n",
    "git_root = git_repo.git.rev_parse(\"--show-toplevel\")\n",
    "sys.path.append(f\"{git_root}/utils/datasets/ego4d\")\n",
    "from json_handler import JsonHandler\n",
    "\n",
    "home = os.path.expanduser(\"~\")\n",
    "dataset_dir = os.path.join(home, \"Documents/datasets\")\n",
    "\n",
    "task = \"fho_scod\"\n",
    "phase = \"train\"\n",
    "json_handler = JsonHandler(dataset_dir, task, phase)"
   ]
  }
 ],
 "metadata": {
  "language_info": {
   "name": "python"
  },
  "orig_nbformat": 4
 },
 "nbformat": 4,
 "nbformat_minor": 2
}
