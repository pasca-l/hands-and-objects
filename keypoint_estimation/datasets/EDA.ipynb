{
 "cells": [
  {
   "attachments": {},
   "cell_type": "markdown",
   "metadata": {},
   "source": [
    "# Keypoint Estimation EDA"
   ]
  },
  {
   "cell_type": "code",
   "execution_count": 1,
   "metadata": {},
   "outputs": [
    {
     "data": {
      "text/plain": [
       "polars.config.Config"
      ]
     },
     "execution_count": 1,
     "metadata": {},
     "output_type": "execute_result"
    }
   ],
   "source": [
    "import os\n",
    "import sys\n",
    "import git\n",
    "import json\n",
    "import pprint\n",
    "import numpy as np\n",
    "import polars as plr\n",
    "import matplotlib.pyplot as plt\n",
    "\n",
    "git_repo = git.Repo(os.getcwd(), search_parent_directories=True)\n",
    "git_root = git_repo.git.rev_parse(\"--show-toplevel\")\n",
    "\n",
    "sys.path.append(git_root)\n",
    "from keypoint_estimation.datasets.datamodule import KeypointEstDataModule\n",
    "from utils.datasets.seed import set_seed\n",
    "\n",
    "set_seed()\n",
    "\n",
    "dataset_dir = f\"{git_root}/keypoint_estimation/datasets/local\"\n",
    "\n",
    "# print table configs\n",
    "plr.Config.restore_defaults()\n",
    "plr.Config.set_tbl_cols(-1)\n",
    "# plr.Config.set_tbl_rows(1)"
   ]
  },
  {
   "attachments": {},
   "cell_type": "markdown",
   "metadata": {},
   "source": [
    "## Ego4D dataset"
   ]
  },
  {
   "cell_type": "code",
   "execution_count": 9,
   "metadata": {},
   "outputs": [],
   "source": [
    "ann_dir = os.path.join(dataset_dir, \"ego4d/v2/annotations/\")\n",
    "\n",
    "# load manifest data\n",
    "manifest_path = os.path.join(ann_dir, \"manifest.csv\")\n",
    "df_manifest = plr.read_csv(manifest_path)\n",
    "\n",
    "# load annotation data\n",
    "train_ann_path = os.path.join(ann_dir, \"fho_oscc-pnr_train.json\")\n",
    "val_ann_path = os.path.join(ann_dir, \"fho_oscc-pnr_val.json\")\n",
    "test_ann_path = os.path.join(ann_dir, \"fho_oscc-pnr_test_unannotated.json\")\n",
    "\n",
    "def load_json_as_df(path):\n",
    "    return plr.read_ndjson(\n",
    "        bytes(\"\\n\".join(\n",
    "            [json.dumps(r) for r in json.load(open(path, 'r'))[\"clips\"]]\n",
    "        ), 'utf-8')\n",
    "    )\n",
    "\n",
    "df_train = load_json_as_df(train_ann_path)\n",
    "df_val = load_json_as_df(val_ann_path)\n",
    "df_test = load_json_as_df(test_ann_path)"
   ]
  },
  {
   "attachments": {},
   "cell_type": "markdown",
   "metadata": {},
   "source": [
    "### Meta data analysis"
   ]
  },
  {
   "cell_type": "code",
   "execution_count": 17,
   "metadata": {},
   "outputs": [
    {
     "name": "stdout",
     "output_type": "stream",
     "text": [
      "shape: (9611, 45)\n",
      "schema:\n",
      "{'benchmarks': Utf8,\n",
      " 'canonical_audio_base_denominator': Float64,\n",
      " 'canonical_audio_base_numerator': Float64,\n",
      " 'canonical_audio_channel_layout': Utf8,\n",
      " 'canonical_audio_channel_rate_hz': Float64,\n",
      " 'canonical_audio_duration_pts': Float64,\n",
      " 'canonical_audio_duration_sec': Float64,\n",
      " 'canonical_audio_start_pts': Float64,\n",
      " 'canonical_audio_start_sec': Float64,\n",
      " 'canonical_display_height': Int64,\n",
      " 'canonical_display_width': Int64,\n",
      " 'canonical_fps': Float64,\n",
      " 'canonical_is_validated': Boolean,\n",
      " 'canonical_mp4_duration_sec': Float64,\n",
      " 'canonical_num_frames': Int64,\n",
      " 'canonical_s3_location': Utf8,\n",
      " 'canonical_video_base_denominator': Int64,\n",
      " 'canonical_video_base_numerator': Int64,\n",
      " 'canonical_video_duration_pts': Int64,\n",
      " 'canonical_video_duration_sec': Float64,\n",
      " 'canonical_video_start_pts': Int64,\n",
      " 'canonical_video_start_sec': Float64,\n",
      " 'deid_scrubbed_audio': Boolean,\n",
      " 'deid_scrubbed_faces': Boolean,\n",
      " 'device': Utf8,\n",
      " 'display_resolution_height': Int64,\n",
      " 'display_resolution_width': Int64,\n",
      " 'duration_sec': Float64,\n",
      " 'fb_participant_id': Float64,\n",
      " 'is_stereo': Boolean,\n",
      " 'origin_video_id': Utf8,\n",
      " 'path': Utf8,\n",
      " 'physical_setting_name': Utf8,\n",
      " 'release_1': Boolean,\n",
      " 'sample_resolution_height': Int64,\n",
      " 'sample_resolution_width': Int64,\n",
      " 'scenarios': Utf8,\n",
      " 'split_av': Utf8,\n",
      " 'split_em': Utf8,\n",
      " 'split_fho': Utf8,\n",
      " 'split_mq': Utf8,\n",
      " 'split_nlq': Utf8,\n",
      " 'split_vq': Utf8,\n",
      " 'video_source': Utf8,\n",
      " 'video_uid': Utf8}\n",
      "\n",
      "shape: (95949, 15)\n",
      "schema:\n",
      "{'clip_end_frame': Int64,\n",
      " 'clip_end_sec': Float64,\n",
      " 'clip_id': Utf8,\n",
      " 'clip_pnr_frame': Int64,\n",
      " 'clip_start_frame': Int64,\n",
      " 'clip_start_sec': Float64,\n",
      " 'clip_uid': Utf8,\n",
      " 'parent_end_frame': Int64,\n",
      " 'parent_end_sec': Float64,\n",
      " 'parent_pnr_frame': Int64,\n",
      " 'parent_start_frame': Int64,\n",
      " 'parent_start_sec': Float64,\n",
      " 'state_change': Boolean,\n",
      " 'unique_id': Utf8,\n",
      " 'video_uid': Utf8}\n",
      "\n",
      "shape: (53341, 15)\n",
      "schema:\n",
      "{'clip_end_frame': Int64,\n",
      " 'clip_end_sec': Float64,\n",
      " 'clip_id': Utf8,\n",
      " 'clip_pnr_frame': Int64,\n",
      " 'clip_start_frame': Int64,\n",
      " 'clip_start_sec': Float64,\n",
      " 'clip_uid': Utf8,\n",
      " 'parent_end_frame': Int64,\n",
      " 'parent_end_sec': Float64,\n",
      " 'parent_pnr_frame': Int64,\n",
      " 'parent_start_frame': Int64,\n",
      " 'parent_start_sec': Float64,\n",
      " 'state_change': Boolean,\n",
      " 'unique_id': Utf8,\n",
      " 'video_uid': Utf8}\n",
      "\n",
      "shape: (28431, 7)\n",
      "schema:\n",
      "{'clip_id': Utf8,\n",
      " 'parent_end_frame': Int64,\n",
      " 'parent_end_sec': Float64,\n",
      " 'parent_start_frame': Int64,\n",
      " 'parent_start_sec': Float64,\n",
      " 'unique_id': Utf8,\n",
      " 'video_uid': Utf8}\n",
      "\n"
     ]
    }
   ],
   "source": [
    "def print_df(df):\n",
    "    print(\n",
    "        f\"shape: {df.shape}\",\n",
    "        f\"schema:\\n{pprint.pformat(df.schema)}\",\n",
    "        sep=\"\\n\",\n",
    "        end=\"\\n\\n\"\n",
    "    )\n",
    "\n",
    "print_df(df_manifest)\n",
    "print_df(df_train)\n",
    "print_df(df_val)\n",
    "print_df(df_test)"
   ]
  },
  {
   "cell_type": "code",
   "execution_count": 13,
   "metadata": {},
   "outputs": [
    {
     "name": "stdout",
     "output_type": "stream",
     "text": [
      "shape: (1, 2)\n",
      "┌──────────┬──────────┐\n",
      "│ positive ┆ negative │\n",
      "│ ---      ┆ ---      │\n",
      "│ u32      ┆ u32      │\n",
      "╞══════════╪══════════╡\n",
      "│ 74905    ┆ 21044    │\n",
      "└──────────┴──────────┘\n"
     ]
    },
    {
     "data": {
      "image/png": "[encoded data removed]",
      "text/plain": [
       "<Figure size 640x480 with 1 Axes>"
      ]
     },
     "metadata": {},
     "output_type": "display_data"
    },
    {
     "name": "stdout",
     "output_type": "stream",
     "text": [
      "shape: (1, 2)\n",
      "┌──────────┬──────────┐\n",
      "│ positive ┆ negative │\n",
      "│ ---      ┆ ---      │\n",
      "│ u32      ┆ u32      │\n",
      "╞══════════╪══════════╡\n",
      "│ 38621    ┆ 14720    │\n",
      "└──────────┴──────────┘\n"
     ]
    },
    {
     "data": {
      "image/png": "[encoded data removed]",
      "text/plain": [
       "<Figure size 640x480 with 1 Axes>"
      ]
     },
     "metadata": {},
     "output_type": "display_data"
    }
   ],
   "source": [
    "# state change presence\n",
    "def get_state_chg_count(df):\n",
    "    return df.select(\n",
    "        plr.col(\"clip_id\"),\n",
    "        plr.col(\"state_change\").count().over(\"clip_id\").alias(\"clip_num\"),\n",
    "        plr.col(\"state_change\").where(plr.col(\"state_change\") == True)\\\n",
    "        .count().over(\"clip_id\").alias(\"positive\"),\n",
    "        plr.col(\"state_change\").where(plr.col(\"state_change\") == False)\\\n",
    "        .count().over(\"clip_id\").alias(\"negative\"),\n",
    "    ).unique()\n",
    "\n",
    "# train data\n",
    "state_chg_train = get_state_chg_count(df_train)\n",
    "\n",
    "print(\n",
    "    state_chg_train.select(\n",
    "        plr.col(\"positive\").sum(),\n",
    "        plr.col(\"negative\").sum(),\n",
    "    )\n",
    ")\n",
    "\n",
    "plt.hist(\n",
    "    state_chg_train.select(\n",
    "        plr.col(\"clip_id\").cast(plr.Int32),\n",
    "        plr.col(\"clip_id\").cast(plr.Int32).alias(\"clip_id2\"),\n",
    "    ),\n",
    "    weights=state_chg_train.select(\n",
    "        plr.col(\"positive\"),\n",
    "        plr.col(\"negative\"),\n",
    "    ),\n",
    "    stacked=True,\n",
    "    bins=5000,\n",
    "    alpha=0.5,\n",
    "    label=[\"positive\", \"negative\"]\n",
    ")\n",
    "\n",
    "plt.legend()\n",
    "plt.show()\n",
    "\n",
    "# validation data\n",
    "state_chg_val = get_state_chg_count(df_val)\n",
    "\n",
    "print(\n",
    "    state_chg_val.select(\n",
    "        plr.col(\"positive\").sum(),\n",
    "        plr.col(\"negative\").sum(),\n",
    "    )\n",
    ")\n",
    "\n",
    "plt.hist(\n",
    "    state_chg_val.select(\n",
    "        plr.col(\"clip_id\").cast(plr.Int32),\n",
    "        plr.col(\"clip_id\").cast(plr.Int32).alias(\"clip_id2\"),\n",
    "    ),\n",
    "    weights=state_chg_val.select(\n",
    "        plr.col(\"positive\"),\n",
    "        plr.col(\"negative\"),\n",
    "    ),\n",
    "    stacked=True,\n",
    "    bins=5000,\n",
    "    alpha=0.5,\n",
    "    label=[\"positive\", \"negative\"]\n",
    ")\n",
    "\n",
    "plt.legend()\n",
    "plt.show()\n",
    "\n",
    "plt.clf()\n",
    "plt.close()"
   ]
  },
  {
   "cell_type": "code",
   "execution_count": 21,
   "metadata": {},
   "outputs": [
    {
     "name": "stdout",
     "output_type": "stream",
     "text": [
      "shape: (9, 3)\n",
      "┌────────────┬────────────────┬────────────────────┐\n",
      "│ describe   ┆ clip_pnr_frame ┆ clip_pnr_frame_val │\n",
      "│ ---        ┆ ---            ┆ ---                │\n",
      "│ str        ┆ f64            ┆ f64                │\n",
      "╞════════════╪════════════════╪════════════════════╡\n",
      "│ count      ┆ 74905.0        ┆ 38621.0            │\n",
      "│ null_count ┆ 0.0            ┆ 0.0                │\n",
      "│ mean       ┆ 0.48625        ┆ 0.421546           │\n",
      "│ std        ┆ 0.117063       ┆ 0.13543            │\n",
      "│ min        ┆ 0.004167       ┆ 0.0                │\n",
      "│ 25%        ┆ 0.4625         ┆ 0.367647           │\n",
      "│ 50%        ┆ 0.495833       ┆ 0.429293           │\n",
      "│ 75%        ┆ 0.529167       ┆ 0.481928           │\n",
      "│ max        ┆ 0.991667       ┆ 1.0                │\n",
      "└────────────┴────────────────┴────────────────────┘\n"
     ]
    },
    {
     "data": {
      "image/png": "[encoded data removed]",
      "text/plain": [
       "<Figure size 640x480 with 1 Axes>"
      ]
     },
     "metadata": {},
     "output_type": "display_data"
    }
   ],
   "source": [
    "# temporal location of PNR frames (on clip level)\n",
    "def get_pnr_loc_clip(df):\n",
    "    return df.select(\n",
    "        (\n",
    "            (plr.col(\"clip_pnr_frame\") - plr.col(\"clip_start_frame\")) /\\\n",
    "            (plr.col(\"clip_end_frame\") - plr.col(\"clip_start_frame\"))\n",
    "        ).where(plr.col(\"state_change\") == True)\n",
    "    )\n",
    "\n",
    "pnr_loc_train_clip = get_pnr_loc_clip(df_train)\n",
    "pnr_loc_val_clip = get_pnr_loc_clip(df_val)\n",
    "\n",
    "print(\n",
    "    pnr_loc_train_clip.describe().join(\n",
    "        pnr_loc_val_clip.describe(),\n",
    "        on=\"describe\",\n",
    "        suffix=\"_val\",\n",
    "    )\n",
    ")\n",
    "\n",
    "plt.hist(pnr_loc_train_clip, bins=100, alpha=0.5, label=\"train\")\n",
    "plt.hist(pnr_loc_val_clip, bins=100, alpha=0.5, label=\"val\")\n",
    "\n",
    "plt.legend()\n",
    "plt.show()\n",
    "\n",
    "plt.clf()\n",
    "plt.close()"
   ]
  },
  {
   "cell_type": "code",
   "execution_count": 22,
   "metadata": {},
   "outputs": [
    {
     "name": "stdout",
     "output_type": "stream",
     "text": [
      "shape: (9, 3)\n",
      "┌────────────┬──────────────────┬──────────────────────┐\n",
      "│ describe   ┆ parent_pnr_frame ┆ parent_pnr_frame_val │\n",
      "│ ---        ┆ ---              ┆ ---                  │\n",
      "│ str        ┆ f64              ┆ f64                  │\n",
      "╞════════════╪══════════════════╪══════════════════════╡\n",
      "│ count      ┆ 74905.0          ┆ 38621.0              │\n",
      "│ null_count ┆ 0.0              ┆ 0.0                  │\n",
      "│ mean       ┆ 0.494457         ┆ 0.502876             │\n",
      "│ std        ┆ 0.291065         ┆ 0.274427             │\n",
      "│ min        ┆ 0.000772         ┆ 0.000615             │\n",
      "│ 25%        ┆ 0.232618         ┆ 0.273112             │\n",
      "│ 50%        ┆ 0.486056         ┆ 0.506598             │\n",
      "│ 75%        ┆ 0.746691         ┆ 0.729109             │\n",
      "│ max        ┆ 0.99928          ┆ 0.999276             │\n",
      "└────────────┴──────────────────┴──────────────────────┘\n"
     ]
    },
    {
     "data": {
      "image/png": "[encoded data removed]",
      "text/plain": [
       "<Figure size 640x480 with 1 Axes>"
      ]
     },
     "metadata": {},
     "output_type": "display_data"
    }
   ],
   "source": [
    "# temporal location of PNR frames (on video level)\n",
    "def get_pnr_loc_video(df, df_manifest):\n",
    "    return df.join(\n",
    "        df_manifest,\n",
    "        on=\"video_uid\",\n",
    "    ).select(\n",
    "        (\n",
    "            plr.col(\"parent_pnr_frame\") / plr.col(\"canonical_num_frames\")\n",
    "        ).where(plr.col(\"state_change\") == True)\n",
    "    )\n",
    "\n",
    "pnr_loc_train_video = get_pnr_loc_video(df_train, df_manifest)\n",
    "pnr_loc_val_video = get_pnr_loc_video(df_val, df_manifest)\n",
    "\n",
    "print(\n",
    "    pnr_loc_train_video.describe().join(\n",
    "        pnr_loc_val_video.describe(),\n",
    "        on=\"describe\",\n",
    "        suffix=\"_val\",\n",
    "    )\n",
    ")\n",
    "\n",
    "plt.hist(pnr_loc_train_video, bins=100, alpha=0.5, label=\"train\")\n",
    "plt.hist(pnr_loc_val_video, bins=100, alpha=0.5, label=\"val\")\n",
    "\n",
    "plt.legend()\n",
    "plt.show()\n",
    "\n",
    "plt.clf()\n",
    "plt.close()"
   ]
  },
  {
   "cell_type": "code",
   "execution_count": 85,
   "metadata": {},
   "outputs": [
    {
     "name": "stdout",
     "output_type": "stream",
     "text": [
      "[('8e58a7b3-43ef-406d-ad5d-901f83418261', [63116, 63498, 63538, 63887, 63956, 64124, 64167, 64167, 64192, 64207, 64225, 64299, 64307, 64324, 64340, 64392, 64514, 64553, 64937, 65204, 65231, 65296, 65889, 65925, 65937, 65953, 65973, 66052, 66289, 66377, 66427, 66507, 66720, 66715, 66777, 66867, 66950, 67203, 67227, 67274, 67427, 67501, 67946, 68038, 68063, 68268, 68282, 68315, 68408, 68577, 69023, 69126, 69180, 69228, 69278, 69500, 69552, 69800, 69850, 70156, 70206, 70412, 70517, 70553, 70801, 70907, 70948, 71000, 71299, 71390, 71416, 71487, 71525, 71645, 71731, 71773, 71940, 198090, 198357, 198619, 198793, 198823, 198849, 198893, 199065, 199095, 199115, 199142, 199154, 199220, 199264, 199345, 199491, 200224, 200265, 200295, 200363, 200560, 200606, 200697, 201090, 201119, 201128, 201168, 201210, 201266, 201396, 201448, 201610, 202223, 202247, 202395, 202424, 202487, 202512, 202536, 202575, 202606, 202654, 202709, 202888, 202907, 202920, 203119, 203163, 203188, 203237, 203445, 203467, 203525, 203567, 204210, 204492, 204700, 204791, 204837, 204922, 204942, 205090, 205268, 205422, 205622, 205877, 206229, 206311, 206389, 206459, 206512, 206729, 206788, 206865, 206990], [382, 40, 349, 69, 168, 43, 0, 25, 15, 18, 74, 8, 17, 16, 52, 122, 39, 384, 267, 27, 65, 593, 36, 12, 16, 20, 79, 237, 88, 50, 80, 208, 5, 57, 90, 83, 253, 24, 47, 153, 74, 445, 92, 25, 205, 14, 33, 93, 169, 446, 103, 54, 48, 50, 222, 52, 248, 50, 306, 50, 206, 105, 36, 248, 106, 41, 52, 299, 91, 26, 71, 38, 120, 86, 42, 167, 126150, 267, 262, 174, 30, 26, 44, 172, 30, 20, 27, 12, 66, 44, 81, 146, 733, 41, 30, 68, 197, 46, 91, 393, 29, 9, 40, 42, 56, 130, 52, 162, 613, 24, 148, 29, 63, 25, 24, 39, 31, 48, 55, 179, 19, 13, 199, 44, 25, 49, 208, 22, 58, 42, 643, 282, 208, 91, 46, 85, 20, 148, 178, 154, 200, 255, 352, 82, 78, 70, 53, 217, 59, 77, 125])]\n",
      "shape: (9, 3)\n",
      "┌────────────┬─────────────┬─────────────┐\n",
      "│ describe   ┆ diff        ┆ diff_val    │\n",
      "│ ---        ┆ ---         ┆ ---         │\n",
      "│ str        ┆ f64         ┆ f64         │\n",
      "╞════════════╪═════════════╪═════════════╡\n",
      "│ count      ┆ 73423.0     ┆ 37860.0     │\n",
      "│ null_count ┆ 0.0         ┆ 0.0         │\n",
      "│ mean       ┆ 257.162742  ┆ 231.840042  │\n",
      "│ std        ┆ 2371.323111 ┆ 1953.458678 │\n",
      "│ min        ┆ 1.0         ┆ 1.0         │\n",
      "│ 25%        ┆ 31.0        ┆ 31.0        │\n",
      "│ 50%        ┆ 67.0        ┆ 67.0        │\n",
      "│ 75%        ┆ 152.0       ┆ 153.0       │\n",
      "│ max        ┆ 199177.0    ┆ 187824.0    │\n",
      "└────────────┴─────────────┴─────────────┘\n"
     ]
    }
   ],
   "source": [
    "# temporal interval between PNR frames (on video level)\n",
    "def get_pnr_intvl_video(df, df_manifest):\n",
    "    return df.join(\n",
    "        df_manifest,\n",
    "        on=\"video_uid\",\n",
    "    ).select(\n",
    "        \"video_uid\", \"parent_pnr_frame\",\n",
    "    ).drop_nulls().groupby(\n",
    "        \"video_uid\",\n",
    "    ).agg(\n",
    "        \"parent_pnr_frame\",\n",
    "    ).with_columns(\n",
    "        plr.struct(\n",
    "            [\"parent_pnr_frame\"],\n",
    "        ).apply(\n",
    "            lambda c: np.diff(sorted(c[\"parent_pnr_frame\"])).tolist(),\n",
    "        ).alias(\"diff\"),\n",
    "    ).explode(\n",
    "        \"diff\"\n",
    "    ).filter(\n",
    "        # same pnr is recorded with different clip_id\n",
    "        # ignoring diff=0 to get accurate mean\n",
    "        plr.col(\"diff\") > 0\n",
    "    ).select(\"diff\")\n",
    "\n",
    "pnr_intvl_train_video = get_pnr_intvl_video(df_train, df_manifest)\n",
    "pnr_intvl_val_video = get_pnr_intvl_video(df_val, df_manifest)\n",
    "\n",
    "print(df_train.join(\n",
    "        df_manifest,\n",
    "        on=\"video_uid\",\n",
    "    ).select(\n",
    "        \"video_uid\", \"parent_pnr_frame\",\n",
    "    ).drop_nulls().groupby(\n",
    "        \"video_uid\",\n",
    "    ).agg(\n",
    "        \"parent_pnr_frame\",\n",
    "    ).with_columns(\n",
    "        plr.struct(\n",
    "            [\"parent_pnr_frame\"],\n",
    "        ).apply(\n",
    "            lambda c: np.diff(sorted(c[\"parent_pnr_frame\"])).tolist(),\n",
    "        ).alias(\"diff\"),\n",
    "    ).filter(\n",
    "        plr.col(\"video_uid\") == \"8e58a7b3-43ef-406d-ad5d-901f83418261\"\n",
    "    ).rows()\n",
    ")\n",
    "\n",
    "print(\n",
    "    pnr_intvl_train_video.describe().join(\n",
    "        pnr_intvl_val_video.describe(),\n",
    "        on=\"describe\",\n",
    "        suffix=\"_val\",\n",
    "    )\n",
    ")"
   ]
  },
  {
   "cell_type": "markdown",
   "metadata": {},
   "source": [
    "## Ego4d dataset w/ reorganization"
   ]
  },
  {
   "cell_type": "markdown",
   "metadata": {},
   "source": [
    "### Dataset analysis"
   ]
  },
  {
   "cell_type": "code",
   "execution_count": 7,
   "metadata": {},
   "outputs": [],
   "source": [
    "# segmenting by fixed seconds\n",
    "segsec_dataset = KeypointEstDataModule(\n",
    "    dataset_dir=dataset_dir,\n",
    "    dataset_mode=\"ego4d\",\n",
    "    batch_size=1,\n",
    "    transform_mode=\"display\",\n",
    "    selection=\"segsec\",\n",
    "    sample_num=16,\n",
    ")\n",
    "segsec_dataset.setup()\n",
    "segsec_train_data = segsec_dataset.train_data\n",
    "segsec_val_data = segsec_dataset.val_data\n",
    "\n",
    "segsec_dataset.setup(stage=\"test\")\n",
    "segsec_test_data = segsec_dataset.test_data\n",
    "\n",
    "# segmenting by fixed ratio\n",
    "segratio_dataset = KeypointEstDataModule(\n",
    "    dataset_dir=dataset_dir,\n",
    "    dataset_mode=\"ego4d\",\n",
    "    batch_size=1,\n",
    "    transform_mode=\"display\",\n",
    "    selection=\"segratio\",\n",
    "    sample_num=16,\n",
    ")\n",
    "segratio_dataset.setup()\n",
    "segratio_train_data = segratio_dataset.train_data\n",
    "segratio_val_data = segratio_dataset.val_data\n",
    "\n",
    "segratio_dataset.setup(stage=\"test\")\n",
    "segratio_test_data = segratio_dataset.test_data"
   ]
  },
  {
   "cell_type": "code",
   "execution_count": 20,
   "metadata": {},
   "outputs": [
    {
     "name": "stdout",
     "output_type": "stream",
     "text": [
      "shape: (9, 3)\n",
      "┌────────────┬──────────────────┬──────────────────────┐\n",
      "│ describe   ┆ parent_pnr_frame ┆ parent_pnr_frame_val │\n",
      "│ ---        ┆ ---              ┆ ---                  │\n",
      "│ str        ┆ f64              ┆ f64                  │\n",
      "╞════════════╪══════════════════╪══════════════════════╡\n",
      "│ count      ┆ 77296.0          ┆ 23292.0              │\n",
      "│ null_count ┆ 0.0              ┆ 0.0                  │\n",
      "│ mean       ┆ 0.498689         ┆ 0.50518              │\n",
      "│ std        ┆ 0.289936         ┆ 0.290517             │\n",
      "│ min        ┆ 0.0              ┆ 0.0                  │\n",
      "│ 25%        ┆ 0.246862         ┆ 0.25523              │\n",
      "│ 50%        ┆ 0.497908         ┆ 0.51046              │\n",
      "│ 75%        ┆ 0.748954         ┆ 0.757322             │\n",
      "│ max        ┆ 1.0              ┆ 1.0                  │\n",
      "└────────────┴──────────────────┴──────────────────────┘\n"
     ]
    },
    {
     "data": {
      "image/png": "[encoded data removed]",
      "text/plain": [
       "<Figure size 640x480 with 1 Axes>"
      ]
     },
     "metadata": {},
     "output_type": "display_data"
    },
    {
     "name": "stdout",
     "output_type": "stream",
     "text": [
      "shape: (9, 3)\n",
      "┌────────────┬──────────────────┬──────────────────────┐\n",
      "│ describe   ┆ parent_pnr_frame ┆ parent_pnr_frame_val │\n",
      "│ ---        ┆ ---              ┆ ---                  │\n",
      "│ str        ┆ f64              ┆ f64                  │\n",
      "╞════════════╪══════════════════╪══════════════════════╡\n",
      "│ count      ┆ 76953.0          ┆ 23149.0              │\n",
      "│ null_count ┆ 0.0              ┆ 0.0                  │\n",
      "│ mean       ┆ 0.502257         ┆ 0.501121             │\n",
      "│ std        ┆ 0.288751         ┆ 0.290513             │\n",
      "│ min        ┆ 0.0              ┆ 0.0                  │\n",
      "│ 25%        ┆ 0.252688         ┆ 0.25                 │\n",
      "│ 50%        ┆ 0.503145         ┆ 0.501984             │\n",
      "│ 75%        ┆ 0.751572         ┆ 0.752929             │\n",
      "│ max        ┆ 1.0              ┆ 1.0                  │\n",
      "└────────────┴──────────────────┴──────────────────────┘\n"
     ]
    },
    {
     "data": {
      "image/png": "[encoded data removed]",
      "text/plain": [
       "<Figure size 640x480 with 1 Axes>"
      ]
     },
     "metadata": {},
     "output_type": "display_data"
    }
   ],
   "source": [
    "# temporal location of PNR frames (on segment level)\n",
    "def get_pnr_loc_seg(df):\n",
    "    return df.explode(\n",
    "        \"parent_pnr_frame\"\n",
    "    ).filter(\n",
    "        plr.col(\"parent_pnr_frame\").is_not_null() == True\n",
    "    ).select(\n",
    "        (plr.col(\"parent_pnr_frame\") - plr.col(\"segment_start_frame\")) /\\\n",
    "        (plr.col(\"segment_end_frame\") - plr.col(\"segment_start_frame\"))\n",
    "    )\n",
    "\n",
    "# segsec data\n",
    "pnr_loc_train_segsec = get_pnr_loc_seg(segsec_train_data.ann_df)\n",
    "pnr_loc_val_segsec = get_pnr_loc_seg(segsec_val_data.ann_df)\n",
    "\n",
    "print(\n",
    "    pnr_loc_train_segsec.describe().join(\n",
    "        pnr_loc_val_segsec.describe(),\n",
    "        on=\"describe\",\n",
    "        suffix=\"_val\",\n",
    "    )\n",
    ")\n",
    "\n",
    "plt.hist(pnr_loc_train_segsec, bins=100, alpha=0.5, label=\"train\")\n",
    "plt.hist(pnr_loc_val_segsec, bins=100, alpha=0.5, label=\"val\")\n",
    "\n",
    "plt.legend()\n",
    "plt.show()\n",
    "\n",
    "# segratio data\n",
    "pnr_loc_train_segratio = get_pnr_loc_seg(segratio_train_data.ann_df)\n",
    "pnr_loc_val_segratio = get_pnr_loc_seg(segratio_val_data.ann_df)\n",
    "\n",
    "print(\n",
    "    pnr_loc_train_segratio.describe().join(\n",
    "        pnr_loc_val_segratio.describe(),\n",
    "        on=\"describe\",\n",
    "        suffix=\"_val\",\n",
    "    )\n",
    ")\n",
    "\n",
    "plt.hist(pnr_loc_train_segratio, bins=100, alpha=0.5, label=\"train\")\n",
    "plt.hist(pnr_loc_val_segratio, bins=100, alpha=0.5, label=\"val\")\n",
    "\n",
    "plt.legend()\n",
    "plt.show()\n",
    "\n",
    "plt.clf()\n",
    "plt.close()"
   ]
  },
  {
   "cell_type": "markdown",
   "metadata": {},
   "source": [
    "### Single data analysis"
   ]
  },
  {
   "cell_type": "code",
   "execution_count": 8,
   "metadata": {},
   "outputs": [
    {
     "name": "stdout",
     "output_type": "stream",
     "text": [
      "77cc4654-4eec-44c6-af05-dbdf71f9a401\n"
     ]
    },
    {
     "data": {
      "image/png": "[encoded data removed]",
      "text/plain": [
       "<Figure size 640x480 with 1 Axes>"
      ]
     },
     "metadata": {},
     "output_type": "display_data"
    }
   ],
   "source": [
    "from matplotlib.colors import ListedColormap\n",
    "from utils.datasets.ego4d.visualize import Visualizer\n",
    "\n",
    "video_uid = df_manifest[\"video_uid\"][0]\n",
    "print(video_uid)\n",
    "\n",
    "visualizer = Visualizer(df_manifest, df_train, df_val)\n",
    "actions, image = visualizer.visualize_action(video_uid)\n",
    "\n",
    "image = np.tile(actions.astype(np.uint8), reps=(4000, 1))\n",
    "\n",
    "cmap = ListedColormap([\"black\", \"red\", \"green\"])\n",
    "plt.imshow(image, cmap=cmap)\n",
    "plt.show()\n",
    "\n",
    "plt.clf()\n",
    "plt.close()"
   ]
  }
 ],
 "metadata": {
  "kernelspec": {
   "display_name": "Python 3",
   "language": "python",
   "name": "python3"
  },
  "language_info": {
   "codemirror_mode": {
    "name": "ipython",
    "version": 3
   },
   "file_extension": ".py",
   "mimetype": "text/x-python",
   "name": "python",
   "nbconvert_exporter": "python",
   "pygments_lexer": "ipython3",
   "version": "3.10.6"
  },
  "orig_nbformat": 4
 },
 "nbformat": 4,
 "nbformat_minor": 2
}
